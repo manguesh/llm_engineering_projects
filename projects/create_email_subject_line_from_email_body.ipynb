{
 "cells": [
  {
   "cell_type": "markdown",
   "id": "d15d8294-3328-4e07-ad16-8a03e9bbfdb9",
   "metadata": {},
   "source": [
    "## Generating an email Subject line from email body"
   ]
  },
  {
   "cell_type": "code",
   "execution_count": 1,
   "id": "4e2a9393-7767-488e-a8bf-27c12dca35bd",
   "metadata": {},
   "outputs": [],
   "source": [
    "# imports\n",
    "\n",
    "import os\n",
    "import requests\n",
    "from dotenv import load_dotenv\n",
    "from bs4 import BeautifulSoup\n",
    "from IPython.display import Markdown, display\n",
    "from openai import OpenAI\n",
    "\n",
    "# If you get an error running this cell, then please head over to the troubleshooting notebook!"
   ]
  },
  {
   "cell_type": "code",
   "execution_count": 2,
   "id": "7b87cadb-d513-4303-baee-a37b6f938e4d",
   "metadata": {},
   "outputs": [
    {
     "name": "stdout",
     "output_type": "stream",
     "text": [
      "API key found and looks good so far!\n"
     ]
    }
   ],
   "source": [
    "# Load environment variables in a file called .env\n",
    "\n",
    "load_dotenv(override=True)\n",
    "api_key = os.getenv('OPENAI_API_KEY')\n",
    "\n",
    "# Check the key\n",
    "\n",
    "if not api_key:\n",
    "    print(\"No API key was found - please head over to the troubleshooting notebook in this folder to identify & fix!\")\n",
    "elif not api_key.startswith(\"sk-proj-\"):\n",
    "    print(\"An API key was found, but it doesn't start sk-proj-; please check you're using the right key - see troubleshooting notebook\")\n",
    "elif api_key.strip() != api_key:\n",
    "    print(\"An API key was found, but it looks like it might have space or tab characters at the start or end - please remove them - see troubleshooting notebook\")\n",
    "else:\n",
    "    print(\"API key found and looks good so far!\")\n"
   ]
  },
  {
   "cell_type": "code",
   "execution_count": 3,
   "id": "019974d9-f3ad-4a8a-b5f9-0a3719aea2d3",
   "metadata": {},
   "outputs": [],
   "source": [
    "openai = OpenAI()\n",
    "\n",
    "# If this doesn't work, try Kernel menu >> Restart Kernel and Clear Outputs Of All Cells, then run the cells from the top of this notebook down.\n",
    "# If it STILL doesn't work (horrors!) then please see the Troubleshooting notebook in this folder for full instructions"
   ]
  },
  {
   "cell_type": "code",
   "execution_count": 4,
   "id": "00743dac-0e70-45b7-879a-d7293a6f68a6",
   "metadata": {},
   "outputs": [
    {
     "data": {
      "text/markdown": [
       "\"Action Required: Reactivate Your Dormant Account with XYZ Bank\""
      ],
      "text/plain": [
       "<IPython.core.display.Markdown object>"
      ]
     },
     "metadata": {},
     "output_type": "display_data"
    }
   ],
   "source": [
    "# Step 1: Create your prompts\n",
    "\n",
    "message = \"\"\"Dear MB,\n",
    "We have noticed that there has been no activity in your Account for the past two years.\n",
    "As per guidelines, we will have to classify your Account status as Dormant.\n",
    "\n",
    "We would like to have you back & enjoy the services of your Account by reactivating it.\n",
    "You can do so by submitting the following documents:\n",
    "· Proof of Address\n",
    "· Proof of Identity\n",
    "\n",
    "For any further assistance, please get in touch with your XYZ Bank Branch Manager.\n",
    "\n",
    "Please note: Kindly ignore this message if you have already activated your account.\n",
    "Warm regards,\n",
    "XYZ\"\"\"\n",
    "\n",
    "def user_prompt_for_email(message):\n",
    "    user_prompt = \"You are looking at the contents of email\"\n",
    "    user_prompt += \"\\nThe contents of this email is as follows.\\n\\n\"\n",
    "    user_prompt += message\n",
    "    user_prompt += \"\\nprovide a subject line for the email\\n\\n\"\n",
    "    return user_prompt\n",
    "\n",
    "system_prompt = \"you are the email subject line generator for emails\"\n",
    "\n",
    "# Step 2: Make the messages list\n",
    "\n",
    "def messages_for_email(message):\n",
    "    return [\n",
    "        {\"role\": \"system\", \"content\": system_prompt},\n",
    "        {\"role\": \"user\", \"content\": user_prompt_for_email(message)}\n",
    "    ]\n",
    "\n",
    "# Step 3: Call OpenAI\n",
    "def summarize_email(message):\n",
    "    response = openai.chat.completions.create(\n",
    "        model = \"gpt-4o-mini\",\n",
    "        messages = messages_for_email(message)\n",
    "    )\n",
    "    return response.choices[0].message.content\n",
    "\n",
    "def display_summary_email(message):\n",
    "    summary = summarize_email(message)\n",
    "    display(Markdown(summary))\n",
    "    \n",
    "response = display_summary_email(message)\n"
   ]
  },
  {
   "cell_type": "code",
   "execution_count": null,
   "id": "3629eedc-327e-45c6-b7c2-398191a93a6b",
   "metadata": {},
   "outputs": [],
   "source": []
  }
 ],
 "metadata": {
  "kernelspec": {
   "display_name": "Python 3 (ipykernel)",
   "language": "python",
   "name": "python3"
  },
  "language_info": {
   "codemirror_mode": {
    "name": "ipython",
    "version": 3
   },
   "file_extension": ".py",
   "mimetype": "text/x-python",
   "name": "python",
   "nbconvert_exporter": "python",
   "pygments_lexer": "ipython3",
   "version": "3.11.11"
  }
 },
 "nbformat": 4,
 "nbformat_minor": 5
}
