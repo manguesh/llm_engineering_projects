{
 "cells": [
  {
   "cell_type": "code",
   "execution_count": 1,
   "id": "9774d935-6bdf-457f-be1c-3334d834a436",
   "metadata": {},
   "outputs": [],
   "source": [
    "import os\n",
    "import json\n",
    "from dotenv import load_dotenv\n",
    "from openai import OpenAI\n",
    "import gradio as gr"
   ]
  },
  {
   "cell_type": "code",
   "execution_count": 2,
   "id": "903369e5-63a5-4ca4-a748-096ea8781a72",
   "metadata": {},
   "outputs": [
    {
     "name": "stdout",
     "output_type": "stream",
     "text": [
      "OpenAI API Key exists and begins sk-proj-\n"
     ]
    }
   ],
   "source": [
    "# Initialization\n",
    "\n",
    "load_dotenv(override=True)\n",
    "\n",
    "openai_api_key = os.getenv('OPENAI_API_KEY')\n",
    "if openai_api_key:\n",
    "    print(f\"OpenAI API Key exists and begins {openai_api_key[:8]}\")\n",
    "else:\n",
    "    print(\"OpenAI API Key not set\")\n",
    "    \n",
    "MODEL = \"gpt-4o-mini\"\n",
    "openai = OpenAI()"
   ]
  },
  {
   "cell_type": "code",
   "execution_count": 54,
   "id": "604eec31-33ee-467e-9373-e8b74a78f230",
   "metadata": {},
   "outputs": [],
   "source": [
    "system_message = \"You are a helpful assistant for an Airline called FlightAI. \"\n",
    "system_message += \"Give short, courteous answers, no more than 1 sentence. \"\n",
    "system_message += \"Always be accurate. If you don't know the answer, say so.\"\n",
    "system_message += \"First Up, ask the user to select one of the following languages - 1. English, 2. Spanish, 3. French, 4. Hindi\"\n",
    "system_message += \"Prompt this to the user in all four languages - English, Spanish, French and Hindi\""
   ]
  },
  {
   "cell_type": "code",
   "execution_count": 55,
   "id": "b3322724-036a-4c20-a792-adb8a965d5e7",
   "metadata": {},
   "outputs": [],
   "source": [
    " global selected_language  # Use the global variable to track the language"
   ]
  },
  {
   "cell_type": "code",
   "execution_count": 56,
   "id": "6a277620-a42c-4d1c-8051-103017c8069b",
   "metadata": {},
   "outputs": [],
   "source": [
    "# function that displays cost of ticket\n",
    "ticket_prices = {\"pune-london\": \"$799\", \"pune-paris\": \"$899\", \"pune-tokyo\": \"$1400\", \"pune-berlin\": \"$499\"}\n",
    "\n",
    "def get_ticket_price(source_city, destination_city):\n",
    "    print(f\"Tool get_ticket_price called for {source_city} to {destination_city}\")\n",
    "    city = source_city.lower() + \"-\" + destination_city.lower()\n",
    "    return ticket_prices.get(city, \"Unknown\")"
   ]
  },
  {
   "cell_type": "code",
   "execution_count": 57,
   "id": "959c8b9b-d407-460c-868f-a952d55821d4",
   "metadata": {},
   "outputs": [],
   "source": [
    "# function that sets the language for communication\n",
    "language_options = {\"1\": \"English\", \"2\": \"Spanish\", \"3\": \"French\", \"4\": \"Hindi\"}\n",
    "\n",
    "def choose_language_function(language):\n",
    "    print(f\"Tool choose_language_function called with language {language} \")\n",
    "    return language_options.get(language, \"Unknown\")"
   ]
  },
  {
   "cell_type": "code",
   "execution_count": 58,
   "id": "f7b13e49-0fb2-4650-bd6b-0d35eb8d2dff",
   "metadata": {},
   "outputs": [
    {
     "name": "stdout",
     "output_type": "stream",
     "text": [
      "Tool choose_language_function called with language 2 \n"
     ]
    },
    {
     "data": {
      "text/plain": [
       "'Spanish'"
      ]
     },
     "execution_count": 58,
     "metadata": {},
     "output_type": "execute_result"
    }
   ],
   "source": [
    "choose_language_function(\"2\")"
   ]
  },
  {
   "cell_type": "code",
   "execution_count": 69,
   "id": "fa71bc70-ea1a-47c7-bad1-55e19345de2a",
   "metadata": {},
   "outputs": [],
   "source": [
    "# function that prints ticket\n",
    "tickets = {\"pune-london\": {\"from\": \"Pune\", \"to\": \"London\", \"price\" : \"$799\", \"departure_date_time\": \"25-04-2025 09:05 hrs\", \"arrival_date_time\": \"25-04-2025 10:15 hrs\"}, \n",
    "           \"pune-paris\":  {\"from\": \"Pune\", \"to\": \"Paris\", \"price\" : \"$899\", \"departure_date_time\": \"25-04-2025 19:05 hrs\", \"arrival_date_time\": \"25-04-2025 22:15 hrs\"}, \n",
    "           \"pune-tokyo\":  {\"from\": \"Pune\", \"to\": \"Tokyo\", \"price\" : \"$1400\", \"departure_date_time\": \"26-04-2025 21:05 hrs\", \"arrival_date_time\": \"26-04-2025 21:15 hrs\"}, \n",
    "           \"pune-berlin\":  {\"from\": \"Pune\", \"to\": \"Berlin\", \"price\" : \"$499\", \"departure_date_time\": \"27-04-2025 22:05 hrs\", \"arrival_date_time\": \"27-04-2025 18:15 hrs\"},\n",
    "    \t   \"पुणे-लंदन\": {\"from\": \"Pune\", \"to\": \"London\", \"price\" : \"$799\", \"departure_date_time\": \"25-04-2025 09:05 hrs\", \"arrival_date_time\": \"25-04-2025 10:15 hrs\"}, \n",
    "           \"पुणे-पेरिस\":  {\"from\": \"Pune\", \"to\": \"Paris\", \"price\" : \"$899\", \"departure_date_time\": \"25-04-2025 19:05 hrs\", \"arrival_date_time\": \"25-04-2025 22:15 hrs\"}, \n",
    "           \"पुणे-टोकियो\":  {\"from\": \"Pune\", \"to\": \"Tokyo\", \"price\" : \"$1400\", \"departure_date_time\": \"26-04-2025 21:05 hrs\", \"arrival_date_time\": \"26-04-2025 21:15 hrs\"}, \n",
    "           \"पुणे-बर्लिन\":  {\"from\": \"Pune\", \"to\": \"Berlin\", \"price\" : \"$499\", \"departure_date_time\": \"27-04-2025 22:05 hrs\", \"arrival_date_time\": \"27-04-2025 18:15 hrs\"}}\n",
    "\n",
    "def get_print_ticket(source_city, destination_city, num_persons):\n",
    "    print(f\"Tool get_print_ticket called for {source_city} to {destination_city}\")\n",
    "    city = source_city.lower() + \"-\" + destination_city.lower()\n",
    "    print(city)\n",
    "    ticket = tickets.get(city, \"Unknown\")\n",
    "    return ticket"
   ]
  },
  {
   "cell_type": "code",
   "execution_count": 70,
   "id": "29a46135-fddb-4213-a8a4-5cbcc0b5b26a",
   "metadata": {},
   "outputs": [
    {
     "name": "stdout",
     "output_type": "stream",
     "text": [
      "Tool get_print_ticket called for Pune to Tokyo\n",
      "pune-tokyo\n"
     ]
    },
    {
     "data": {
      "text/plain": [
       "{'from': 'Pune',\n",
       " 'to': 'Tokyo',\n",
       " 'price': '$1400',\n",
       " 'departure_date_time': '26-04-2025 21:05 hrs',\n",
       " 'arrival_date_time': '26-04-2025 21:15 hrs'}"
      ]
     },
     "execution_count": 70,
     "metadata": {},
     "output_type": "execute_result"
    }
   ],
   "source": [
    "get_print_ticket(\"Pune\",\"Tokyo\", 5)"
   ]
  },
  {
   "cell_type": "code",
   "execution_count": 71,
   "id": "fee20618-95c1-400b-b8aa-c542fe036914",
   "metadata": {},
   "outputs": [],
   "source": [
    "print_function = {\n",
    "    \"name\": \"get_print_ticket\",\n",
    "    \"description\": \"Print the ticket. Call this whenever you need to print the ticket, for example when a customer asks 'Book the ticket'\",\n",
    "    \"parameters\": {\n",
    "        \"type\": \"object\",\n",
    "        \"properties\": {\n",
    "            \"destination_city\": {\n",
    "                \"type\": \"string\",\n",
    "                \"description\": \"The city that the customer wants to travel to\",\n",
    "            },\n",
    "            \"source_city\": {\n",
    "                \"type\": \"string\",\n",
    "                \"description\": \"The city that the customer wants to start travel from\",\n",
    "            },\n",
    "            \"num_persons\": {\n",
    "                \"type\": \"integer\",\n",
    "                \"description\": \"The number of persons travelling\",\n",
    "            },\n",
    "        },\n",
    "        \"required\": [\"destination_city\", \"source_city\", \"num_persons\"],\n",
    "        \"additionalProperties\": False\n",
    "    }\n",
    "}"
   ]
  },
  {
   "cell_type": "code",
   "execution_count": 72,
   "id": "ec91138c-ca45-4364-be29-d23ccc14c959",
   "metadata": {},
   "outputs": [],
   "source": [
    "price_function = {\n",
    "    \"name\": \"get_ticket_price\",\n",
    "    \"description\": \"Get the price of a return ticket to the destination city. Call this whenever you need to know the ticket price, for example when a customer asks 'How much is a ticket to this city'\",\n",
    "    \"parameters\": {\n",
    "        \"type\": \"object\",\n",
    "        \"properties\": {\n",
    "            \"destination_city\": {\n",
    "                \"type\": \"string\",\n",
    "                \"description\": \"The city that the customer wants to travel to\",\n",
    "            },\n",
    "            \"source_city\": {\n",
    "                \"type\": \"string\",\n",
    "                \"description\": \"The city that the customer wants to start travel from\",\n",
    "            },\n",
    "        },\n",
    "        \"required\": [\"destination_city\", \"source_city\"],\n",
    "        \"additionalProperties\": False\n",
    "    }\n",
    "}"
   ]
  },
  {
   "cell_type": "code",
   "execution_count": 73,
   "id": "ab7a0b9c-c951-4a7e-8efe-331e73e86431",
   "metadata": {},
   "outputs": [],
   "source": [
    "language_function = {\n",
    "    \"name\": \"choose_language_function\",\n",
    "    \"description\": \"Read the language of choice from the user, for example when a customer says 'Spanish', it means he/she wants all further communications in Spanish\",\n",
    "    \"parameters\": {\n",
    "        \"type\": \"object\",\n",
    "        \"properties\": {\n",
    "            \"language\": {\n",
    "                \"type\": \"string\",\n",
    "                \"description\": \"The language of communication chosen by the user\",\n",
    "            },\n",
    "        },\n",
    "        \"required\": [\"language\"],\n",
    "        \"additionalProperties\": False\n",
    "    }\n",
    "}"
   ]
  },
  {
   "cell_type": "code",
   "execution_count": 74,
   "id": "d83c6bae-c80d-4345-b657-0bec015a3848",
   "metadata": {},
   "outputs": [],
   "source": [
    "# And this is included in a list of tools:\n",
    "\n",
    "tools = [{\"type\": \"function\", \"function\": price_function}, \n",
    "         {\"type\": \"function\", \"function\": print_function},\n",
    "         {\"type\": \"function\", \"function\": language_function}]"
   ]
  },
  {
   "cell_type": "code",
   "execution_count": 75,
   "id": "288ed6a2-4ee4-4046-a3ab-7c5960f72b91",
   "metadata": {},
   "outputs": [],
   "source": [
    "def chat(message, history):\n",
    "    if(message == \"2\"): \n",
    "        message = \"Use Spanish for all further communications in this chat\"\n",
    "    elif(message == \"3\"):\n",
    "        message = \"Use French for all further communications in this chat\"\n",
    "    elif(message == \"4\"):\n",
    "        message = \"Use Hindi for all further communications in this chat\"\n",
    "\n",
    "    print(\"-------------------------beginning of messages---------------------\")\n",
    "    messages = [{\"role\": \"system\", \"content\": system_message}] + history + [{\"role\": \"user\", \"content\": message}]\n",
    "    print(messages)\n",
    "    response = openai.chat.completions.create(model=MODEL, messages=messages, tools=tools)\n",
    "\n",
    "    if response.choices[0].finish_reason==\"tool_calls\":\n",
    "        message = response.choices[0].message\n",
    "        response, source_city, destination_city  = handle_tool_call(message)\n",
    "        messages.append(message)\n",
    "        messages.append(response)\n",
    "        response = openai.chat.completions.create(model=MODEL, messages=messages)\n",
    "    \n",
    "    return response.choices[0].message.content"
   ]
  },
  {
   "cell_type": "code",
   "execution_count": 76,
   "id": "ad7c1147-d9ca-43b4-98f1-fdf8f7b54cb3",
   "metadata": {},
   "outputs": [],
   "source": [
    "# We have to write that function handle_tool_call:\n",
    "\n",
    "def handle_tool_call(message):\n",
    "    tool_call = message.tool_calls[0]\n",
    "    \n",
    "    arguments = json.loads(tool_call.function.arguments)\n",
    "    source_city = arguments.get('source_city')\n",
    "    destination_city = arguments.get('destination_city')\n",
    "    language = arguments.get('language')\n",
    "\n",
    "    tool_name = tool_call.function.name\n",
    "\n",
    "    if tool_name == \"get_ticket_price\":\n",
    "        price = get_ticket_price(source_city, destination_city)\n",
    "        response = {\n",
    "            \"role\": \"tool\",\n",
    "            \"content\": json.dumps({\"source_city\": source_city, \"destination_city\": destination_city,\"price\": price}),\n",
    "            \"tool_call_id\": tool_call.id\n",
    "        }\n",
    "        return response, source_city, destination_city\n",
    "    elif tool_name == \"choose_language_function\":\n",
    "        language = choose_language_function(arguments.get('language'))\n",
    "        response = {\n",
    "            \"role\": \"tool\",\n",
    "            \"content\": json.dumps({\"language\": language}),\n",
    "            \"tool_call_id\": tool_call.id\n",
    "        }\n",
    "        return response, source_city, destination_city\n",
    "    else:\n",
    "        num_persons = arguments.get('num_persons')\n",
    "        ticket_details = get_print_ticket(source_city, destination_city, num_persons)\n",
    "        response = {\n",
    "            \"role\": \"tool\",\n",
    "            \"content\": json.dumps({\"source_city\": source_city, \"destination_city\": destination_city,\"price\": ticket_details}),\n",
    "            \"tool_call_id\": tool_call.id\n",
    "        }\n",
    "        return response, source_city, destination_city"
   ]
  },
  {
   "cell_type": "code",
   "execution_count": 78,
   "id": "4461e93f-5aa5-4d8e-a4e7-22fb0a5d8e16",
   "metadata": {},
   "outputs": [
    {
     "name": "stdout",
     "output_type": "stream",
     "text": [
      "* Running on local URL:  http://127.0.0.1:7900\n",
      "\n",
      "To create a public link, set `share=True` in `launch()`.\n"
     ]
    },
    {
     "data": {
      "text/html": [
       "<div><iframe src=\"http://127.0.0.1:7900/\" width=\"100%\" height=\"500\" allow=\"autoplay; camera; microphone; clipboard-read; clipboard-write;\" frameborder=\"0\" allowfullscreen></iframe></div>"
      ],
      "text/plain": [
       "<IPython.core.display.HTML object>"
      ]
     },
     "metadata": {},
     "output_type": "display_data"
    },
    {
     "data": {
      "text/plain": []
     },
     "execution_count": 78,
     "metadata": {},
     "output_type": "execute_result"
    },
    {
     "name": "stdout",
     "output_type": "stream",
     "text": [
      "-------------------------beginning of messages---------------------\n",
      "[{'role': 'system', 'content': \"You are a helpful assistant for an Airline called FlightAI. Give short, courteous answers, no more than 1 sentence. Always be accurate. If you don't know the answer, say so.First Up, ask the user to select one of the following languages - 1. English, 2. Spanish, 3. French, 4. HindiPrompt this to the user in all four languages - English, Spanish, French and Hindi\"}, {'role': 'user', 'content': 'hi'}]\n",
      "-------------------------beginning of messages---------------------\n",
      "[{'role': 'system', 'content': \"You are a helpful assistant for an Airline called FlightAI. Give short, courteous answers, no more than 1 sentence. Always be accurate. If you don't know the answer, say so.First Up, ask the user to select one of the following languages - 1. English, 2. Spanish, 3. French, 4. HindiPrompt this to the user in all four languages - English, Spanish, French and Hindi\"}, {'role': 'user', 'metadata': None, 'content': 'hi', 'options': None}, {'role': 'assistant', 'metadata': None, 'content': 'Hello! Please select one of the following languages: 1. English, 2. Spanish, 3. French, 4. Hindi.', 'options': None}, {'role': 'user', 'content': 'Use French for all further communications in this chat'}]\n",
      "Tool choose_language_function called with language French \n"
     ]
    }
   ],
   "source": [
    "# Chat logic\n",
    "def chat_interface(message, history): \n",
    "    # Once a language is selected, respond in that language\n",
    "    return chat(message, history)\n",
    "\n",
    "gr.ChatInterface(fn=chat_interface, type=\"messages\").launch()"
   ]
  },
  {
   "cell_type": "code",
   "execution_count": null,
   "id": "12edb819-4cdc-4e8c-b387-34702fa5e471",
   "metadata": {},
   "outputs": [],
   "source": []
  },
  {
   "cell_type": "code",
   "execution_count": null,
   "id": "a06015d0-b3f5-4aa5-9df6-c97c871ebb5f",
   "metadata": {},
   "outputs": [],
   "source": []
  }
 ],
 "metadata": {
  "kernelspec": {
   "display_name": "Python 3 (ipykernel)",
   "language": "python",
   "name": "python3"
  },
  "language_info": {
   "codemirror_mode": {
    "name": "ipython",
    "version": 3
   },
   "file_extension": ".py",
   "mimetype": "text/x-python",
   "name": "python",
   "nbconvert_exporter": "python",
   "pygments_lexer": "ipython3",
   "version": "3.11.11"
  }
 },
 "nbformat": 4,
 "nbformat_minor": 5
}
