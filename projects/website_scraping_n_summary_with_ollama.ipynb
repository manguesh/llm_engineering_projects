{
 "cells": [
  {
   "cell_type": "markdown",
   "id": "d15d8294-3328-4e07-ad16-8a03e9bbfdb9",
   "metadata": {},
   "source": [
    "# Summarize a website content using olama installed locally\n",
    "\n",
    "Instructions are below. Please give this a try, and look in the solutions folder if you get stuck (or feel free to ask me!)"
   ]
  },
  {
   "cell_type": "code",
   "execution_count": 2,
   "id": "4e2a9393-7767-488e-a8bf-27c12dca35bd",
   "metadata": {},
   "outputs": [],
   "source": [
    "# imports\n",
    "\n",
    "import requests\n",
    "from bs4 import BeautifulSoup\n",
    "from IPython.display import Markdown, display"
   ]
  },
  {
   "cell_type": "code",
   "execution_count": 3,
   "id": "29ddd15d-a3c5-4f4e-a678-873f56162724",
   "metadata": {},
   "outputs": [],
   "source": [
    "# Constants\n",
    "\n",
    "OLLAMA_API = \"http://localhost:11434/api/chat\"\n",
    "HEADERS = {\"Content-Type\": \"application/json\"}\n",
    "MODEL = \"llama3.2\""
   ]
  },
  {
   "cell_type": "code",
   "execution_count": 4,
   "id": "479ff514-e8bd-4985-a572-2ea28bb4fa40",
   "metadata": {},
   "outputs": [
    {
     "name": "stderr",
     "output_type": "stream",
     "text": [
      "\u001b[?25lpulling manifest â ‹ \u001b[?25h\u001b[?25l\u001b[2K\u001b[1Gpulling manifest â ™ \u001b[?25h\u001b[?25l\u001b[2K\u001b[1Gpulling manifest â ¹ \u001b[?25h\u001b[?25l\u001b[2K\u001b[1Gpulling manifest â ¸ \u001b[?25h\u001b[?25l\u001b[2K\u001b[1Gpulling manifest â ¼ \u001b[?25h\u001b[?25l\u001b[2K\u001b[1Gpulling manifest â ´ \u001b[?25h\u001b[?25l\u001b[2K\u001b[1Gpulling manifest â ¦ \u001b[?25h\u001b[?25l\u001b[2K\u001b[1Gpulling manifest â § \u001b[?25h\u001b[?25l\u001b[2K\u001b[1Gpulling manifest â ‡ \u001b[?25h\u001b[?25l\u001b[2K\u001b[1Gpulling manifest â � \u001b[?25h\u001b[?25l\u001b[2K\u001b[1Gpulling manifest â ‹ \u001b[?25h\u001b[?25l\u001b[2K\u001b[1Gpulling manifest â ™ \u001b[?25h\u001b[?25l\u001b[2K\u001b[1Gpulling manifest \n",
      "pulling dde5aa3fc5ff... 100% â–•â–ˆâ–ˆâ–ˆâ–ˆâ–ˆâ–ˆâ–ˆâ–ˆâ–ˆâ–ˆâ–ˆâ–ˆâ–ˆâ–ˆâ–ˆâ–ˆâ–� 2.0 GB                         \n",
      "pulling 966de95ca8a6... 100% â–•â–ˆâ–ˆâ–ˆâ–ˆâ–ˆâ–ˆâ–ˆâ–ˆâ–ˆâ–ˆâ–ˆâ–ˆâ–ˆâ–ˆâ–ˆâ–ˆâ–� 1.4 KB                         \n",
      "pulling fcc5a6bec9da... 100% â–•â–ˆâ–ˆâ–ˆâ–ˆâ–ˆâ–ˆâ–ˆâ–ˆâ–ˆâ–ˆâ–ˆâ–ˆâ–ˆâ–ˆâ–ˆâ–ˆâ–� 7.7 KB                         \n",
      "pulling a70ff7e570d9... 100% â–•â–ˆâ–ˆâ–ˆâ–ˆâ–ˆâ–ˆâ–ˆâ–ˆâ–ˆâ–ˆâ–ˆâ–ˆâ–ˆâ–ˆâ–ˆâ–ˆâ–� 6.0 KB                         \n",
      "pulling 56bb8bd477a5... 100% â–•â–ˆâ–ˆâ–ˆâ–ˆâ–ˆâ–ˆâ–ˆâ–ˆâ–ˆâ–ˆâ–ˆâ–ˆâ–ˆâ–ˆâ–ˆâ–ˆâ–�   96 B                         \n",
      "pulling 34bb5ab01051... 100% â–•â–ˆâ–ˆâ–ˆâ–ˆâ–ˆâ–ˆâ–ˆâ–ˆâ–ˆâ–ˆâ–ˆâ–ˆâ–ˆâ–ˆâ–ˆâ–ˆâ–�  561 B                         \n",
      "verifying sha256 digest \n",
      "writing manifest \n",
      "success \u001b[?25h\n"
     ]
    }
   ],
   "source": [
    "# Let's just make sure the model is loaded\n",
    "\n",
    "!ollama pull llama3.2"
   ]
  },
  {
   "cell_type": "code",
   "execution_count": 8,
   "id": "402d5686-4e76-4110-b65a-b3906c35c0a4",
   "metadata": {},
   "outputs": [
    {
     "data": {
      "text/markdown": [
       "**Summary:**\n",
       "\n",
       "The website appears to be a personal or corporate blog/online publication from CNN. The content is primarily news-based, covering various international and local issues.\n",
       "\n",
       "**News and Announcements:**\n",
       "\n",
       "* No recent breaking news or press releases are available on the website.\n",
       "However, there are some archives of past news articles and announcements that can be found on certain sections of the site.\n",
       "\n",
       "**Other Content:**\n",
       "\n",
       "The website features a mix of:\n",
       "\n",
       "1. **Style articles**: About fashion, design, architecture, and luxury.\n",
       "2. **Travel articles**: Featuring destinations, food and drink, stay, and videos related to travel.\n",
       "3. **Science articles**: Covering space, life, and unearthed topics.\n",
       "4. **Climate-related content**: Including solutions and weather updates.\n",
       "\n",
       "**Opinions and Features:**\n",
       "\n",
       "The website includes some opinion pieces and features, such as:\n",
       "\n",
       "1. \"As Equals\" - CNN's commitment to diversity and inclusion\n",
       "2. \"Call to Earth\" - A campaign focused on sustainability and environmental issues\n",
       "3. \"Freedom Project\" - A series of articles highlighting freedom-related topics\n",
       "\n",
       "**Audio podcasts:**\n",
       "\n",
       "The website promotes various audio podcasts from CNN, including:\n",
       "\n",
       "1. \"Chasing Life with Dr. Sanjay Gupta\"\n",
       "2. \"One Thing\"\n",
       "3. \"Tug of War\"\n",
       "4. \"CNN Political Briefing\"\n",
       "5. \"The Axe Files\"\n",
       "\n",
       "**Video content:**\n",
       "\n",
       "There are various video sections, such as live TV, CNN 10, Shows A-Z, and videos featuring experts and news anchors."
      ],
      "text/plain": [
       "<IPython.core.display.Markdown object>"
      ]
     },
     "metadata": {},
     "output_type": "display_data"
    }
   ],
   "source": [
    "import os\n",
    "\n",
    "from dotenv import load_dotenv\n",
    "\n",
    "\n",
    "# Step 1: Create your prompts\n",
    "def scrape_website(url):\n",
    "    # Fetch the webpage\n",
    "    response = requests.get(url)\n",
    "    \n",
    "    # Check if the request was successful\n",
    "    if response.status_code != 200:\n",
    "        raise Exception(\"Failed to fetch the webpage: {response.status_code}\")\n",
    "    \n",
    "    # Parse the HTML content\n",
    "    soup = BeautifulSoup(response.content, 'html.parser')\n",
    "    \n",
    "    # Extract all text, ignoring HTML and JavaScript\n",
    "    text = soup.get_text(separator='\\n')\n",
    "    \n",
    "    return text\n",
    "\n",
    "def user_prompt_for_website(message):\n",
    "    user_prompt = \"You are looking at the contents of a website\"\n",
    "    user_prompt += \"\\nThe contents of this website is as follows.\\n\\n\"\n",
    "    user_prompt += message\n",
    "    user_prompt += \"\\nprovide a concise summary of the website ignoring the html and javascript and any other navigational content\\n\\n\"\n",
    "    user_prompt += \"\\nIf it includes news or announcements, then summarize these too.\\n\\n\"\n",
    "    return user_prompt\n",
    "\n",
    "system_prompt = \"you are the website summary generator\"\n",
    "\n",
    "# Step 2: Make the messages list\n",
    "\n",
    "def messages_for_website(message):\n",
    "        return [\n",
    "        {\"role\": \"system\", \"content\": system_prompt},\n",
    "        {\"role\": \"user\", \"content\": user_prompt_for_website(message)}\n",
    "    ]\n",
    "\n",
    "# Step 3: Call OpenAI\n",
    "def summarize_website(message):\n",
    "    from openai import OpenAI\n",
    "    ollama_via_openai = OpenAI(base_url='http://localhost:11434/v1', api_key='ollama')\n",
    "\n",
    "    response = ollama_via_openai.chat.completions.create(\n",
    "        model=MODEL,\n",
    "        messages=messages_for_website(message)\n",
    "    )\n",
    "    return response.choices[0].message.content\n",
    "\n",
    "def display_summary_website(message):\n",
    "    summary = summarize_website(message)\n",
    "    display(Markdown(summary))\n",
    "\n",
    "website_text = scrape_website(\"https://edition.cnn.com/\")\n",
    "response = display_summary_website(website_text)\n"
   ]
  },
  {
   "cell_type": "code",
   "execution_count": null,
   "id": "8c0e1f2d-eb0e-4118-b9c6-0313dbe16da8",
   "metadata": {},
   "outputs": [],
   "source": []
  }
 ],
 "metadata": {
  "kernelspec": {
   "display_name": "Python 3 (ipykernel)",
   "language": "python",
   "name": "python3"
  },
  "language_info": {
   "codemirror_mode": {
    "name": "ipython",
    "version": 3
   },
   "file_extension": ".py",
   "mimetype": "text/x-python",
   "name": "python",
   "nbconvert_exporter": "python",
   "pygments_lexer": "ipython3",
   "version": "3.11.11"
  }
 },
 "nbformat": 4,
 "nbformat_minor": 5
}
